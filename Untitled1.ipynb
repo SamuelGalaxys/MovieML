{
 "cells": [
  {
   "cell_type": "code",
   "execution_count": 12,
   "id": "0e180663-3f45-42e2-bf24-9bf5aeff529a",
   "metadata": {},
   "outputs": [],
   "source": [
    "from pyspark.sql import SparkSession\n",
    "\n",
    "spark = SparkSession \\\n",
    "    .builder \\\n",
    "    .config(\"spark.driver.extraClassPath\", \"mysql-connector-j-8.4.0.jar\") \\\n",
    "    .appName(\"pyspark-db-connect\") \\\n",
    "    .getOrCreate()\n",
    "\n",
    "# In Python\n",
    "# Loading data from a JDBC source using load \n",
    "jdbcDF = (spark\n",
    "  .read\n",
    "  .format(\"jdbc\")\n",
    "  .option(\"url\", \"jdbc:mysql://localhost:3306/schoolDB\")\n",
    "  .option(\"driver\", \"com.mysql.cj.jdbc.Driver\") \n",
    "  .option(\"dbtable\", \"Students\")\n",
    "  .option(\"user\", \"root\")\n",
    "  .option(\"password\", \"kj6138@@!@\")\n",
    "  .load())\n",
    "\n",
    "# Saving data to a JDBC source using save \n",
    "(jdbcDF\n",
    "  .write \n",
    "  .format(\"jdbc\") \n",
    "  .option(\"url\", \"jdbc:mysql://localhost:3306/schoolDB\")\n",
    "  .option(\"driver\", \"com.mysql.cj.jdbc.Driver\") \n",
    "  .option(\"dbtable\", \"Student_info\") \n",
    "  .option(\"user\", \"root\")\n",
    "  .option(\"password\", \"kj6138@@!@\")\n",
    "  .save())"
   ]
  },
  {
   "cell_type": "code",
   "execution_count": null,
   "id": "abbbbd89-a252-4bbd-a422-e8dfdf4b72af",
   "metadata": {},
   "outputs": [],
   "source": []
  },
  {
   "cell_type": "code",
   "execution_count": null,
   "id": "5d9c4116-b4fc-453f-b9ba-e694f04c89be",
   "metadata": {},
   "outputs": [],
   "source": []
  }
 ],
 "metadata": {
  "kernelspec": {
   "display_name": "Python 3 (ipykernel)",
   "language": "python",
   "name": "python3"
  },
  "language_info": {
   "codemirror_mode": {
    "name": "ipython",
    "version": 3
   },
   "file_extension": ".py",
   "mimetype": "text/x-python",
   "name": "python",
   "nbconvert_exporter": "python",
   "pygments_lexer": "ipython3",
   "version": "3.11.5"
  }
 },
 "nbformat": 4,
 "nbformat_minor": 5
}
