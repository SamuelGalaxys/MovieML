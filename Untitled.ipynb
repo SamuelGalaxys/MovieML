{
 "cells": [
  {
   "cell_type": "code",
   "execution_count": 5,
   "id": "2567c8aa-f889-4f83-b3ef-bf664dc0b450",
   "metadata": {},
   "outputs": [
    {
     "name": "stdout",
     "output_type": "stream",
     "text": [
      "+--------------+--------------------------+--------------------------+--------------------------+-------------------------------+\n",
      "|sum(NumAlarms)|avg(ResponseDelayedInMins)|min(ResponseDelayedInMins)|max(ResponseDelayedInMins)|var_samp(ResponseDelayedInMins)|\n",
      "+--------------+--------------------------+--------------------------+--------------------------+-------------------------------+\n",
      "|        176170|         3.892364154521585|               0.016666668|                   1844.55|              87.95225254154934|\n",
      "+--------------+--------------------------+--------------------------+--------------------------+-------------------------------+\n",
      "\n"
     ]
    }
   ],
   "source": [
    "from pyspark.sql.types import *\n",
    "from pyspark.sql import SparkSession\n",
    "from pyspark.sql.functions import col\n",
    "\n",
    "spark = SparkSession.builder.appName(\"Count\").master(\"local[*]\").getOrCreate()\n",
    "spark.sparkContext.setLogLevel(\"WARN\")  \n",
    "\n",
    "# 스키마 정의\n",
    "fire_schema = StructType([\n",
    "    StructField('CallNumber', IntegerType(), True), \n",
    "    StructField('UnitID', StringType(), True), \n",
    "    StructField('IncidentNumber', IntegerType(), True), \n",
    "    StructField('CallType', StringType(), True), \n",
    "    StructField('CallDate', StringType(), True), \n",
    "    StructField('WatchDate', StringType(), True), \n",
    "    StructField('CallFinalDisposition', StringType(), True), \n",
    "    StructField('AvailableDtTm', StringType(), True), \n",
    "    StructField('Address', StringType(), True), \n",
    "    StructField('City', StringType(), True), \n",
    "    StructField('Zipcode', IntegerType(), True), \n",
    "    StructField('Battalion', StringType(), True), \n",
    "    StructField('StationArea', StringType(), True), \n",
    "    StructField('Box', StringType(), True), \n",
    "    StructField('OriginalPriority', StringType(), True),\n",
    "    StructField('Priority', StringType(), True), \n",
    "    StructField('FinalPriority', IntegerType(), True), \n",
    "    StructField('ALSUnit', BooleanType(), True), \n",
    "    StructField('CallTypeGroup', StringType(), True), \n",
    "    StructField('NumAlarms', IntegerType(), True), \n",
    "    StructField('UnitType', StringType(), True), \n",
    "    StructField('UnitSequenceInCallDispatch', IntegerType(), True), \n",
    "    StructField('FirePreventionDistrict', StringType(), True), \n",
    "    StructField('SupervisorDistrict', StringType(), True), \n",
    "    StructField('Neighborhood', StringType(), True), \n",
    "    StructField('Location', StringType(), True), \n",
    "    StructField('RowID', StringType(), True), \n",
    "    StructField('Delay', FloatType(), True)\n",
    "])\n",
    "\n",
    "# CSV 파일 경로\n",
    "sf_fire_file = \"sf-fire-calls.csv\" \n",
    "\n",
    "# CSV 파일을 읽어서 DataFrame 생성\n",
    "fire_ts_df = spark.read.csv(sf_fire_file, header=True, schema=fire_schema)\n",
    "\n",
    "\n",
    "\n",
    "\n",
    "\n",
    "import pyspark.sql.functions as F\n",
    "fire_ts_df = fire_ts_df.withColumnRenamed(\"Delay\", \"ResponseDelayedInMins\")\n",
    "fire_ts_df \\\n",
    "    .select(\n",
    "        F.sum(\"NumAlarms\"), \n",
    "        F.avg(\"ResponseDelayedInMins\"), \n",
    "        F.min(\"ResponseDelayedInMins\"), \n",
    "        F.max(\"ResponseDelayedInMins\"),\n",
    "\tF.variance(\"ResponseDelayedInMins\")\n",
    "    ) \\\n",
    "    .show()\n"
   ]
  },
  {
   "cell_type": "code",
   "execution_count": null,
   "id": "d7b56d59-a4f9-4fb0-844c-f8b66e9d6dbd",
   "metadata": {},
   "outputs": [],
   "source": []
  }
 ],
 "metadata": {
  "kernelspec": {
   "display_name": "Python 3 (ipykernel)",
   "language": "python",
   "name": "python3"
  },
  "language_info": {
   "codemirror_mode": {
    "name": "ipython",
    "version": 3
   },
   "file_extension": ".py",
   "mimetype": "text/x-python",
   "name": "python",
   "nbconvert_exporter": "python",
   "pygments_lexer": "ipython3",
   "version": "3.11.5"
  }
 },
 "nbformat": 4,
 "nbformat_minor": 5
}
