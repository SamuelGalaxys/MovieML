{
 "cells": [
  {
   "cell_type": "code",
   "execution_count": 2,
   "id": "c7400ad6-d436-4ffd-9f1c-fb495c432fde",
   "metadata": {},
   "outputs": [
    {
     "name": "stdout",
     "output_type": "stream",
     "text": [
      "+---+----------+-----+\n",
      "|uid|     uname|usage|\n",
      "+---+----------+-----+\n",
      "|  0|user-Gpi2C|  525|\n",
      "|  1|user-DgXDi|  502|\n",
      "|  2|user-M66yO|  170|\n",
      "|  3|user-xTOn6|  913|\n",
      "|  4|user-3xGSz|  246|\n",
      "|  5|user-2aWRN|  727|\n",
      "|  6|user-EzZY1|   65|\n",
      "|  7|user-ZlZMZ|  935|\n",
      "|  8|user-VjxeG|  756|\n",
      "|  9|user-iqf1P|    3|\n",
      "+---+----------+-----+\n",
      "only showing top 10 rows\n",
      "\n"
     ]
    },
    {
     "data": {
      "text/plain": [
       "import scala.util.Random\r\n",
       "import spark.implicits._\r\n",
       "defined class Usage\r\n",
       "r: scala.util.Random = scala.util.Random@4a823efd\r\n",
       "data: scala.collection.immutable.IndexedSeq[Usage] = Vector(Usage(0,user-Gpi2C,525), Usage(1,user-DgXDi,502), Usage(2,user-M66yO,170), Usage(3,user-xTOn6,913), Usage(4,user-3xGSz,246), Usage(5,user-2aWRN,727), Usage(6,user-EzZY1,65), Usage(7,user-ZlZMZ,935), Usage(8,user-VjxeG,756), Usage(9,user-iqf1P,3), Usage(10,user-91S1q,794), Usage(11,user-qHNj0,501), Usage(12,user-7hb94,460), Usage(13,user-bz0WF,142), Usage(14,user-71nwy,479), Usage(15,user-7GZz1,823), Usage(16,user-1CSk6,140), Usage(17,user-WPzlL,246), Usage(18,user-VaEit,451), Usage(19,user-PSaRq,679), Usage(20,user-0Kkzu,332), Usage(21,user-UN3MG,172), Usage(22,user-KwwER,442), Usage(23,user-ZnltJ,923), Us...\r\n"
      ]
     },
     "execution_count": 2,
     "metadata": {},
     "output_type": "execute_result"
    }
   ],
   "source": [
    "import scala.util.Random\n",
    "import spark.implicits._\n",
    "\n",
    "// 데이터세트를 위한 케이스 클래스\n",
    "case class Usage(uid: Int, uname: String, usage: Int)\n",
    "\n",
    "val r = new Random(42)\n",
    "\n",
    "// 스칼라 Usage 클래스의 1000개 인스턴스 생성\n",
    "// 데이터를 즉시 생성\n",
    "val data = (0 to 1000).map(i => Usage(i, \"user-\" + r.alphanumeric.take(5).mkString, r.nextInt(1000)))\n",
    "\n",
    "// Usage 형태의 데이터세트 생성\n",
    "val dsUsage = spark.createDataset(data)\n",
    "\n",
    "dsUsage.show(10)\n"
   ]
  },
  {
   "cell_type": "code",
   "execution_count": 3,
   "id": "1562b8ab-9f08-4db2-9041-eeeeb1fdba0e",
   "metadata": {},
   "outputs": [
    {
     "name": "stdout",
     "output_type": "stream",
     "text": [
      "+---+----------+-----+\n",
      "|uid|     uname|usage|\n",
      "+---+----------+-----+\n",
      "|  0|user-Gpi2C|  525|\n",
      "|  1|user-DgXDi|  502|\n",
      "|  2|user-M66yO|  170|\n",
      "|  3|user-xTOn6|  913|\n",
      "|  4|user-3xGSz|  246|\n",
      "|  5|user-2aWRN|  727|\n",
      "|  6|user-EzZY1|   65|\n",
      "|  7|user-ZlZMZ|  935|\n",
      "|  8|user-VjxeG|  756|\n",
      "|  9|user-iqf1P|    3|\n",
      "+---+----------+-----+\n",
      "only showing top 10 rows\n",
      "\n"
     ]
    }
   ],
   "source": [
    "dsUsage.show(10)"
   ]
  },
  {
   "cell_type": "code",
   "execution_count": 4,
   "id": "0bbae4d7-f7af-4149-99cd-fde30204dab4",
   "metadata": {},
   "outputs": [
    {
     "name": "stdout",
     "output_type": "stream",
     "text": [
      "+-----+\n",
      "|value|\n",
      "+-----+\n",
      "|262.5|\n",
      "|251.0|\n",
      "|85.0 |\n",
      "|391.3|\n",
      "|123.0|\n",
      "+-----+\n",
      "only showing top 5 rows\n",
      "\n"
     ]
    }
   ],
   "source": [
    "// if-then-else 람다식을 사용하여 값을 계산\n",
    "dsUsage.map ( u => {if (u.usage > 750) (u.usage - 750) * 0.1 + 750 * 0.50 else u.usage * 0.50})\n",
    "    .show(5, false)"
   ]
  },
  {
   "cell_type": "code",
   "execution_count": 7,
   "id": "4595b66a-85ce-4b49-8a28-c3bffbab0c7a",
   "metadata": {},
   "outputs": [
    {
     "name": "stdout",
     "output_type": "stream",
     "text": [
      "+-------+----------+-----+\n",
      "|user_id|  username| cost|\n",
      "+-------+----------+-----+\n",
      "|      0|user-Gpi2C|262.5|\n",
      "|      1|user-DgXDi|251.0|\n",
      "|      2|user-M66yO| 85.0|\n",
      "|      3|user-xTOn6|391.3|\n",
      "|      4|user-3xGSz|123.0|\n",
      "|      5|user-2aWRN|363.5|\n",
      "|      6|user-EzZY1| 32.5|\n",
      "|      7|user-ZlZMZ|393.5|\n",
      "|      8|user-VjxeG|375.6|\n",
      "|      9|user-iqf1P|  1.5|\n",
      "+-------+----------+-----+\n",
      "only showing top 10 rows\n",
      "\n"
     ]
    },
    {
     "data": {
      "text/plain": [
       "computeCostUsage: (usage: Int)Double\r\n",
       "costDf: org.apache.spark.sql.DataFrame = [user_id: int, username: string ... 1 more field]\r\n"
      ]
     },
     "execution_count": 7,
     "metadata": {},
     "output_type": "execute_result"
    }
   ],
   "source": [
    "// 사용량을 계산하는 함수를 정의\n",
    "def computeCostUsage(usage: Int): Double = {\n",
    "  if (usage > 750) (usage - 750) * 0.1 + 750 * 0.50 else usage * 0.50\n",
    "}\n",
    "\n",
    "// map()에 인자로서 함수를 사용\n",
    "val costDf = dsUsage.map(u => (u.uid, u.uname, computeCostUsage(u.usage)))\n",
    "  .toDF(\"user_id\", \"username\", \"cost\")\n",
    "\n",
    "costDf.show(10)"
   ]
  },
  {
   "cell_type": "code",
   "execution_count": null,
   "id": "03a0aa06-f37f-4c81-b5a1-8485af527ea3",
   "metadata": {},
   "outputs": [],
   "source": []
  }
 ],
 "metadata": {
  "kernelspec": {
   "display_name": "spylon-kernel",
   "language": "scala",
   "name": "spylon-kernel"
  },
  "language_info": {
   "codemirror_mode": "text/x-scala",
   "file_extension": ".scala",
   "help_links": [
    {
     "text": "MetaKernel Magics",
     "url": "https://metakernel.readthedocs.io/en/latest/source/README.html"
    }
   ],
   "mimetype": "text/x-scala",
   "name": "scala",
   "pygments_lexer": "scala",
   "version": "0.4.1"
  }
 },
 "nbformat": 4,
 "nbformat_minor": 5
}
