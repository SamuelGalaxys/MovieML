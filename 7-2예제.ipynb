{
 "cells": [
  {
   "cell_type": "code",
   "execution_count": 11,
   "id": "620bb059-88cf-48d6-9eb5-c49655a96d49",
   "metadata": {},
   "outputs": [],
   "source": [
    "from pyspark.sql import SparkSession\n",
    "spark = SparkSession.builder \\\n",
    "    .appName(\"Flight Delays Analysis\") \\\n",
    "    .getOrCreate()"
   ]
  },
  {
   "cell_type": "code",
   "execution_count": 12,
   "id": "2f780d0b-ad8a-43a2-9197-d0de4d6aa432",
   "metadata": {},
   "outputs": [],
   "source": [
    "# 파이썬 예제\n",
    "\n",
    "# 파일 경로 설정\n",
    "from pyspark.sql.functions import expr\n",
    "\n",
    "tripdelaysFilePath = \"departuredelays.csv\"\n",
    "airportsnaFilePath = \"airport-codes-na.txt\"\n",
    "\n",
    "# 공항 데이터세트를 읽어오기\n",
    "airportsna = (\n",
    "    spark.read\n",
    "    .format(\"csv\")\n",
    "    .options(header=\"true\", inferSchema=\"true\", sep=\"\\t\")\n",
    "    .load(airportsnaFilePath)\n",
    ")\n",
    "\n",
    "airportsna.createOrReplaceTempView(\"airports_na\")\n",
    "\n",
    "# 출발 지연 데이터세트를 읽어오기\n",
    "departureDelays = (\n",
    "    spark.read\n",
    "    .format(\"csv\")\n",
    "    .options(header=\"true\")\n",
    "    .load(tripdelaysFilePath)\n",
    ")\n",
    "\n",
    "departureDelays = (\n",
    "    departureDelays\n",
    "    .withColumn(\"delay\", expr(\"CAST(delay as INT) as delay\"))\n",
    "    .withColumn(\"distance\", expr(\"CAST(distance as INT) as distance\"))\n",
    ")\n",
    "\n",
    "departureDelays.createOrReplaceTempView(\"departureDelays\")\n",
    "\n",
    "# 임시 작은 테이블 생성\n",
    "foo = (\n",
    "    departureDelays\n",
    "    .filter(expr(\"origin == 'SEA' AND destination == 'SFO' AND date like '01010%' AND delay > 0\"))\n",
    ")\n",
    "\n",
    "foo.createOrReplaceTempView(\"foo\")\n"
   ]
  },
  {
   "cell_type": "code",
   "execution_count": 13,
   "id": "41c63b28-d509-4e25-90ad-72aae91b6dc8",
   "metadata": {},
   "outputs": [
    {
     "name": "stdout",
     "output_type": "stream",
     "text": [
      "+--------+-----+--------+------+-----------+\n",
      "|    date|delay|distance|origin|destination|\n",
      "+--------+-----+--------+------+-----------+\n",
      "|01010710|   31|     590|   SEA|        SFO|\n",
      "|01010955|  104|     590|   SEA|        SFO|\n",
      "|01010730|    5|     590|   SEA|        SFO|\n",
      "+--------+-----+--------+------+-----------+\n",
      "\n"
     ]
    }
   ],
   "source": [
    "foo.show()"
   ]
  },
  {
   "cell_type": "code",
   "execution_count": 5,
   "id": "d7cf0d75-dc4b-43f7-9c43-b087f00d3f67",
   "metadata": {},
   "outputs": [
    {
     "name": "stdout",
     "output_type": "stream",
     "text": [
      "+--------+-----+--------+------+-----------+-------+\n",
      "|    date|delay|distance|origin|destination| status|\n",
      "+--------+-----+--------+------+-----------+-------+\n",
      "|01010710|   31|     590|   SEA|        SFO|Delayed|\n",
      "|01010955|  104|     590|   SEA|        SFO|Delayed|\n",
      "|01010730|    5|     590|   SEA|        SFO|On-time|\n",
      "+--------+-----+--------+------+-----------+-------+\n",
      "\n"
     ]
    }
   ],
   "source": [
    "# foo2 데이터프레임 생성 및 status 컬럼 추가\n",
    "foo2 = (\n",
    "    foo.withColumn(\n",
    "        \"status\", expr(\"CASE WHEN delay <= 10 THEN 'On-time' ELSE 'Delayed' END\")\n",
    "    )\n",
    ")\n",
    "foo2.show()"
   ]
  },
  {
   "cell_type": "code",
   "execution_count": 6,
   "id": "e3440f83-2327-4d29-a237-89bf4e457007",
   "metadata": {},
   "outputs": [
    {
     "name": "stdout",
     "output_type": "stream",
     "text": [
      "+--------+--------+------+-----------+-------+\n",
      "|    date|distance|origin|destination| status|\n",
      "+--------+--------+------+-----------+-------+\n",
      "|01010710|     590|   SEA|        SFO|Delayed|\n",
      "|01010955|     590|   SEA|        SFO|Delayed|\n",
      "|01010730|     590|   SEA|        SFO|On-time|\n",
      "+--------+--------+------+-----------+-------+\n",
      "\n"
     ]
    }
   ],
   "source": [
    "# delay 컬럼 제거\n",
    "foo3 = foo2.drop(\"delay\")\n",
    "\n",
    "# foo3 데이터프레임 출력\n",
    "foo3.show()"
   ]
  },
  {
   "cell_type": "code",
   "execution_count": 7,
   "id": "e94c7457-ab9a-4680-a58a-0d9ae340a14f",
   "metadata": {},
   "outputs": [
    {
     "name": "stdout",
     "output_type": "stream",
     "text": [
      "+--------+--------+------+-----------+-------------+\n",
      "|    date|distance|origin|destination|flight_status|\n",
      "+--------+--------+------+-----------+-------------+\n",
      "|01010710|     590|   SEA|        SFO|      Delayed|\n",
      "|01010955|     590|   SEA|        SFO|      Delayed|\n",
      "|01010730|     590|   SEA|        SFO|      On-time|\n",
      "+--------+--------+------+-----------+-------------+\n",
      "\n"
     ]
    }
   ],
   "source": [
    "# 파이썬 예제\n",
    "\n",
    "# foo3 데이터프레임에서 status 컬럼명을 flight_status로 변경\n",
    "foo4 = foo3.withColumnRenamed(\"status\", \"flight_status\")\n",
    "\n",
    "# foo4 데이터프레임 출력\n",
    "foo4.show()"
   ]
  },
  {
   "cell_type": "code",
   "execution_count": 14,
   "id": "e3e9ce10-b46d-441e-a6a6-6d6e7a35bfd2",
   "metadata": {},
   "outputs": [
    {
     "name": "stdout",
     "output_type": "stream",
     "text": [
      "+-----------+------------+------------+------------+------------+\n",
      "|destination|JAN_AvgDelay|JAN_MaxDelay|FEB_AvgDelay|FEB_MaxDelay|\n",
      "+-----------+------------+------------+------------+------------+\n",
      "|        ABQ|       19.86|         316|       11.42|          69|\n",
      "|        ANC|        4.44|         149|        7.90|         141|\n",
      "|        ATL|       11.98|         397|        7.73|         145|\n",
      "|        AUS|        3.48|          50|       -0.21|          18|\n",
      "|        BOS|        7.84|         110|       14.58|         152|\n",
      "|        BUR|       -2.03|          56|       -1.89|          78|\n",
      "|        CLE|       16.00|          27|        NULL|        NULL|\n",
      "|        CLT|        2.53|          41|       12.96|         228|\n",
      "|        COS|        5.32|          82|       12.18|         203|\n",
      "|        CVG|       -0.50|           4|        NULL|        NULL|\n",
      "+-----------+------------+------------+------------+------------+\n",
      "only showing top 10 rows\n",
      "\n"
     ]
    }
   ],
   "source": [
    "spark.sql(\"\"\"\n",
    "    SELECT * FROM (\n",
    "        SELECT destination, \n",
    "               CAST(SUBSTRING(date, 0, 2) AS int) AS month, \n",
    "               delay\n",
    "        FROM departureDelays \n",
    "        WHERE origin = 'SEA'\n",
    "    ) \n",
    "    PIVOT (\n",
    "        CAST(AVG(delay) AS DECIMAL(4, 2)) AS AvgDelay, \n",
    "        MAX(delay) AS MaxDelay \n",
    "        FOR month IN (1 AS JAN, 2 AS FEB)\n",
    "    )\n",
    "    ORDER BY destination\n",
    "\"\"\").show(10)"
   ]
  },
  {
   "cell_type": "code",
   "execution_count": 10,
   "id": "015b830d-9cbe-4da5-bc50-39294153760d",
   "metadata": {},
   "outputs": [
    {
     "name": "stdout",
     "output_type": "stream",
     "text": [
      "+-----------+-----+-----+\n",
      "|destination|month|delay|\n",
      "+-----------+-----+-----+\n",
      "|        ORD|    1|   92|\n",
      "|        JFK|    1|   -7|\n",
      "|        DFW|    1|   -5|\n",
      "|        MIA|    1|   -3|\n",
      "|        DFW|    1|   -3|\n",
      "|        DFW|    1|    1|\n",
      "|        ORD|    1|  -10|\n",
      "|        DFW|    1|   -6|\n",
      "|        DFW|    1|   -2|\n",
      "|        ORD|    1|   -3|\n",
      "|        ORD|    1|    0|\n",
      "|        DFW|    1|   23|\n",
      "|        DFW|    1|   36|\n",
      "|        ORD|    1|  298|\n",
      "|        JFK|    1|    4|\n",
      "|        DFW|    1|    0|\n",
      "|        MIA|    1|    2|\n",
      "|        DFW|    1|    0|\n",
      "|        DFW|    1|    0|\n",
      "|        ORD|    1|   83|\n",
      "+-----------+-----+-----+\n",
      "only showing top 20 rows\n",
      "\n"
     ]
    }
   ],
   "source": [
    "spark.sql(\"\"\"\n",
    "SELECT \n",
    "    destination, \n",
    "    CAST(SUBSTRING(date, 0, 2) AS int) AS month, \n",
    "    delay \n",
    "FROM \n",
    "    departureDelays \n",
    "WHERE \n",
    "    origin = 'SEA'\n",
    "\"\"\").show()"
   ]
  },
  {
   "cell_type": "code",
   "execution_count": null,
   "id": "ddd0763d-024a-4d04-984a-4cdf4634b0e3",
   "metadata": {},
   "outputs": [],
   "source": []
  }
 ],
 "metadata": {
  "kernelspec": {
   "display_name": "Python 3 (ipykernel)",
   "language": "python",
   "name": "python3"
  },
  "language_info": {
   "codemirror_mode": {
    "name": "ipython",
    "version": 3
   },
   "file_extension": ".py",
   "mimetype": "text/x-python",
   "name": "python",
   "nbconvert_exporter": "python",
   "pygments_lexer": "ipython3",
   "version": "3.11.5"
  }
 },
 "nbformat": 4,
 "nbformat_minor": 5
}
